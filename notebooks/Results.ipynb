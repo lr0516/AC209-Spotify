{
 "cells": [
  {
   "cell_type": "markdown",
   "metadata": {},
   "source": [
    "# Results"
   ]
  },
  {
   "cell_type": "code",
   "execution_count": 1,
   "metadata": {},
   "outputs": [],
   "source": [
    "import pandas as pd\n",
    "import numpy as np\n",
    "import os\n",
    "import re\n",
    "import json\n",
    "import random\n",
    "import math"
   ]
  },
  {
   "cell_type": "markdown",
   "metadata": {},
   "source": [
    "## I. Metrics Definition\n",
    "\n",
    "We will evaluate our models based on R-Precision, Normalized Discoutned Cumulative Gain (NDCG), and Recommended Songs Clicks. In order to clearly define our metrics, we use $G$ to denote the ordered ground truth list of songs that the user would like to listen to, and we use R to denote the ordered recommendations produced by our model. We use $\\mid \\cdot \\mid$ to indicate the length of a list, and we use $R_i$ to refer to the i-th song in our recommendation. Furthermore, we say a song in our recommentation is relavent if it also exists in the ground truth list. We then define $r_i = 1$ if $R_i$ is relavent and $r_i = 0$ if otherwise.\n",
    "\n",
    "### 1. R-Precision\n",
    "\n",
    "R-Precision measures the overlap between the ground truth set and our recommendation. Its value is simply the number of relavent songs in our model's  first $\\mid G \\mid$ recommendations divided by the length of the ground truth set.\n",
    "<center>$$ \\text{R-Precision} = \\frac{\\sum_{1}^{\\mid G \\mid} r_i}{\\mid G \\mid}$$</center>\n",
    "\n",
    "### 2. NDCG\n",
    "\n",
    "Normalized Discoutned Cumulative Gain (NDCG) further measures the quality of order in our recommendation. It gives more credit when a relavent song is placed higher in our recommendation. DCG is a score on our recommendation, and IDCG is the ideal DCG value is all of our top $\\mid G \\mid$ recommended songs are relavent. By dividing the two, NDCG gives us a normalized score.\n",
    "<center>$$ \\text{DCG} = r_1 + \\sum_{2}^{\\mid R \\mid} \\frac{r_i}{log_2(i+1)}$$</center>\n",
    "<center>$$ \\text{IDCG} = 1 + \\sum_{2}^{\\mid G \\mid} \\frac{1}{log_2(i+1)}$$</center>\n",
    "<center>$$ \\text{NDCG} = \\frac{\\text{DCG}}{\\text{IDCG}}$$</center>\n",
    "\n",
    "### 3. Recommended Songs Clicks \n",
    "\n",
    "Recommended Songs Clicks is a special metric targeted for Spotify. Spotify has a feature that generates ten songs in a round. The Recommended Songs Clicks is the minimal number of refreshes required to get the first relavent song. \n",
    "<center>$$ \\text{Clicks} = \\left \\lfloor \\frac{argmin_i\\{R_i:R_i \\subset G\\}-1}{10} \\right \\rfloor$$</center>\n",
    "When there are more songs in R than in G, we only consider the first $\\mid G \\mid$ songs in R. If none of the recommended songs is relavent, the value of the Recommended Songs Clicks would be $ \\frac{|R|}{10}$, which is one more than the maximal number of rounds possible."
   ]
  },
  {
   "cell_type": "code",
   "execution_count": 2,
   "metadata": {},
   "outputs": [],
   "source": [
    "def R_precision(rec, Y):\n",
    "    count = 0\n",
    "    for song in Y:\n",
    "        if song in rec[:len(Y)]:\n",
    "            count += 1 \n",
    "    return count/len(Y)\n",
    "\n",
    "def NDCG(rec, Y):\n",
    "    IDCG = 0\n",
    "    for i in range(0,len(Y)):\n",
    "        if i == 0: IDCG += 1\n",
    "        else: IDCG += 1/math.log((i+2),2)\n",
    "    DCG = 0\n",
    "    for i in range(0,len(rec)):\n",
    "        if i == 0 and rec[i] in Y: DCG += 1\n",
    "        elif i > 0 and rec[i] in Y: DCG += 1/math.log((i+2),2)     \n",
    "    return DCG/IDCG\n",
    "\n",
    "def clicks(rec, Y):\n",
    "    found_at = -1\n",
    "    find = 0\n",
    "    while found_at == -1 and find < len(Y):\n",
    "        if rec[find] in Y: found_at = find\n",
    "        else: find += 1\n",
    "    if found_at == -1:\n",
    "        return len(Y)//10\n",
    "    else:\n",
    "        return found_at//10\n",
    "\n",
    "def TEST_ALL(recs, Ys):\n",
    "    R_precision_scores = []\n",
    "    NDCG_scores = []\n",
    "    clicks_scores = []\n",
    "    for i in range(len(Ys)):\n",
    "        rec = recs[i]\n",
    "        Y = Ys[i]\n",
    "        R_precision_scores.append(R_precision(rec,Y))\n",
    "        NDCG_scores.append(NDCG(rec,Y))\n",
    "        clicks_scores.append(clicks(rec,Y))\n",
    "    return R_precision_scores,NDCG_scores, clicks_scores"
   ]
  },
  {
   "cell_type": "code",
   "execution_count": 3,
   "metadata": {},
   "outputs": [],
   "source": [
    "def R_precision(rec, Y):\n",
    "    count = 0\n",
    "    for song in Y:\n",
    "        if song in rec[:len(Y)]:\n",
    "            count += 1 \n",
    "    return count/len(Y)\n",
    "\n",
    "def NDCG(rec, Y):\n",
    "    IDCG = 0\n",
    "    for i in range(0,len(Y)):\n",
    "        if i == 0: IDCG += 1\n",
    "        else: IDCG += 1/math.log((i+2),2)\n",
    "    DCG = 0\n",
    "    for i in range(0,len(rec)):\n",
    "        if i == 0 and rec[i] in Y: DCG += 1\n",
    "        elif i > 0 and rec[i] in Y: DCG += 1/math.log((i+2),2)     \n",
    "    return DCG/IDCG\n",
    "\n",
    "def clicks(rec, Y):\n",
    "    found_at = -1\n",
    "    find = 0\n",
    "    while found_at == -1 and find < len(Y):\n",
    "        if rec[find] in Y: found_at = find\n",
    "        else: find += 1\n",
    "    if found_at == -1:\n",
    "        return len(Y)//10\n",
    "    else:\n",
    "        return found_at//10\n",
    "\n",
    "def TEST_ALL(recs, Ys):\n",
    "    R_precision_scores = []\n",
    "    NDCG_scores = []\n",
    "    clicks_scores = []\n",
    "    for i in range(len(Ys)):\n",
    "        rec = recs[i]\n",
    "        Y = Ys[i]\n",
    "        R_precision_scores.append(R_precision(rec,Y))\n",
    "        NDCG_scores.append(NDCG(rec,Y))\n",
    "        clicks_scores.append(clicks(rec,Y))\n",
    "    return R_precision_scores,NDCG_scores, clicks_scoresdef test_recs(fn):\n",
    "    with open(fn) as json_file: \n",
    "         rec = json.load(json_file)\n",
    "    with open('validation/val_Y.json') as json_file: \n",
    "         val_Y = json.load(json_file)  \n",
    "\n",
    "    empty = []\n",
    "    for i in range(len(rec)):\n",
    "        if len(rec[i])==0: empty.append(i)\n",
    "    for i in reversed(sorted(empty)): \n",
    "        del rec[i]\n",
    "        del val_Y[i]\n",
    "\n",
    "    R_precision_score, NDCG_score, clicks_score = TEST_ALL(rec,val_Y)\n",
    "    score1 = np.mean(R_precision_score)\n",
    "    score2 = np.mean(NDCG_score)\n",
    "    score3 = np.mean(clicks_score)\n",
    "    print(f'R_precision: {score1}')\n",
    "    print(f'NDCG: {score2}')\n",
    "    print(f'#clicks: {score3}')\n",
    "    return score1, score2, score3\n",
    "    \n",
    "def test_scores(fn):\n",
    "    with open(fn) as json_file: \n",
    "         scores = json.load(json_file)\n",
    "    with open('validation/val_Y.json') as json_file: \n",
    "         val_Y = json.load(json_file)  \n",
    "    rec = [list(single_score.keys()) for single_score in scores]\n",
    "\n",
    "    empty = []\n",
    "    for i in range(len(rec)):\n",
    "        if len(rec[i])==0: empty.append(i)     \n",
    "    for i in reversed(sorted(empty)): \n",
    "        del rec[i]\n",
    "        del val_Y[i]\n",
    "\n",
    "    R_precision_score, NDCG_score, clicks_score = TEST_ALL(rec,val_Y)\n",
    "    score1 = np.mean(R_precision_score)\n",
    "    score2 = np.mean(NDCG_score)\n",
    "    score3 = np.mean(clicks_score)\n",
    "    print(f'R_precision: {score1}')\n",
    "    print(f'NDCG: {score2}')\n",
    "    print(f'#clicks: {score3}')\n",
    "    return score1, score2, score3"
   ]
  },
  {
   "cell_type": "markdown",
   "metadata": {},
   "source": [
    "## II. Model Evaluation\n",
    "\n",
    "During the hybridization process, we have chosen 5,000 playlists and divided them into input and output parts. The inputs have lengths from 0 to 150, distributed roughly evenly, and the outputs all have lengths of 100. We feed our models with the validation input, and each model produces 500 ordered song recommendations. We then calculate the three metrics for each of the models.\n",
    "\n",
    "Because we generated our validation set from MPD, and MPD does not provide information on a user's preference among the songs within a single playlist, we make the assumption that the position of a song indicates the user's preference. That is to say, we consider that users prefer songs that are placed in the front of the playlists, and we calculate NDCG based on this assumption. "
   ]
  },
  {
   "cell_type": "markdown",
   "metadata": {},
   "source": [
    "### 1. Baseline Model"
   ]
  },
  {
   "cell_type": "markdown",
   "metadata": {},
   "source": [
    "**Top 500 Popular Songs**"
   ]
  },
  {
   "cell_type": "code",
   "execution_count": 4,
   "metadata": {
    "scrolled": true
   },
   "outputs": [
    {
     "name": "stdout",
     "output_type": "stream",
     "text": [
      "R_precision: 0.035814\n",
      "NDCG: 0.08360293878734794\n",
      "#clicks: 5.0066\n"
     ]
    }
   ],
   "source": [
    "R_bl, N_bl, C_bl = test_recs('validation/val_Y_top500.json')"
   ]
  },
  {
   "cell_type": "markdown",
   "metadata": {},
   "source": [
    "#### Summary"
   ]
  },
  {
   "cell_type": "code",
   "execution_count": 25,
   "metadata": {},
   "outputs": [
    {
     "data": {
      "text/html": [
       "<div>\n",
       "<style scoped>\n",
       "    .dataframe tbody tr th:only-of-type {\n",
       "        vertical-align: middle;\n",
       "    }\n",
       "\n",
       "    .dataframe tbody tr th {\n",
       "        vertical-align: top;\n",
       "    }\n",
       "\n",
       "    .dataframe thead th {\n",
       "        text-align: right;\n",
       "    }\n",
       "</style>\n",
       "<table border=\"1\" class=\"dataframe\">\n",
       "  <thead>\n",
       "    <tr style=\"text-align: right;\">\n",
       "      <th></th>\n",
       "      <th>R-Precision</th>\n",
       "      <th>NDCG</th>\n",
       "      <th>Recommended Songs Clicks</th>\n",
       "    </tr>\n",
       "  </thead>\n",
       "  <tbody>\n",
       "    <tr>\n",
       "      <th>Baseline - Top 500</th>\n",
       "      <td>0.035814</td>\n",
       "      <td>0.083603</td>\n",
       "      <td>5.0066</td>\n",
       "    </tr>\n",
       "  </tbody>\n",
       "</table>\n",
       "</div>"
      ],
      "text/plain": [
       "                    R-Precision      NDCG  Recommended Songs Clicks\n",
       "Baseline - Top 500     0.035814  0.083603                    5.0066"
      ]
     },
     "metadata": {},
     "output_type": "display_data"
    }
   ],
   "source": [
    "df_bl = pd.DataFrame([R_bl, N_bl, C_bl]).T\n",
    "df_bl.columns = ['R-Precision','NDCG','Recommended Songs Clicks']\n",
    "df_bl.index = ['Baseline - Top 500']\n",
    "display(df_bl)"
   ]
  },
  {
   "cell_type": "markdown",
   "metadata": {},
   "source": [
    "### 2. Collaborative Filtering Models"
   ]
  },
  {
   "cell_type": "code",
   "execution_count": 5,
   "metadata": {},
   "outputs": [],
   "source": [
    "R_cf_list,N_cf_list,C_cf_list = [],[],[]"
   ]
  },
  {
   "cell_type": "markdown",
   "metadata": {},
   "source": [
    "**Baseline (50000 Playlists)**"
   ]
  },
  {
   "cell_type": "code",
   "execution_count": 6,
   "metadata": {
    "scrolled": true
   },
   "outputs": [
    {
     "name": "stdout",
     "output_type": "stream",
     "text": [
      "R_precision: 0.022812\n",
      "NDCG: 0.06110045476489474\n",
      "#clicks: 5.5702\n"
     ]
    }
   ],
   "source": [
    "R, N, C = test_scores('validation/score_baseline_CF.json')\n",
    "R_cf_list.append(R)\n",
    "N_cf_list.append(N)\n",
    "C_cf_list.append(C)"
   ]
  },
  {
   "cell_type": "markdown",
   "metadata": {},
   "source": [
    "**Meta-Playlist**"
   ]
  },
  {
   "cell_type": "code",
   "execution_count": 7,
   "metadata": {
    "scrolled": true
   },
   "outputs": [
    {
     "name": "stdout",
     "output_type": "stream",
     "text": [
      "R_precision: 0.017968\n",
      "NDCG: 0.053416332195018505\n",
      "#clicks: 5.2572\n"
     ]
    }
   ],
   "source": [
    "R, N, C = test_scores('validation/score_metaplaylist.json')\n",
    "R_cf_list.append(R)\n",
    "N_cf_list.append(N)\n",
    "C_cf_list.append(C)"
   ]
  },
  {
   "cell_type": "markdown",
   "metadata": {},
   "source": [
    "**Advanced (Filtered Songs and Playlists)**"
   ]
  },
  {
   "cell_type": "code",
   "execution_count": 8,
   "metadata": {
    "scrolled": false
   },
   "outputs": [
    {
     "name": "stdout",
     "output_type": "stream",
     "text": [
      "R_precision: 0.020694000000000004\n",
      "NDCG: 0.06297452664793372\n",
      "#clicks: 6.12\n"
     ]
    }
   ],
   "source": [
    "R, N, C = test_scores('validation/score_advanced_CF.json')\n",
    "R_cf_list.append(R)\n",
    "N_cf_list.append(N)\n",
    "C_cf_list.append(C)"
   ]
  },
  {
   "cell_type": "markdown",
   "metadata": {},
   "source": [
    "#### Summary"
   ]
  },
  {
   "cell_type": "code",
   "execution_count": 10,
   "metadata": {},
   "outputs": [
    {
     "data": {
      "text/html": [
       "<div>\n",
       "<style scoped>\n",
       "    .dataframe tbody tr th:only-of-type {\n",
       "        vertical-align: middle;\n",
       "    }\n",
       "\n",
       "    .dataframe tbody tr th {\n",
       "        vertical-align: top;\n",
       "    }\n",
       "\n",
       "    .dataframe thead th {\n",
       "        text-align: right;\n",
       "    }\n",
       "</style>\n",
       "<table border=\"1\" class=\"dataframe\">\n",
       "  <thead>\n",
       "    <tr style=\"text-align: right;\">\n",
       "      <th></th>\n",
       "      <th>R-Precision</th>\n",
       "      <th>NDCG</th>\n",
       "      <th>Recommended Songs Clicks</th>\n",
       "    </tr>\n",
       "  </thead>\n",
       "  <tbody>\n",
       "    <tr>\n",
       "      <th>Baseline CF</th>\n",
       "      <td>0.022812</td>\n",
       "      <td>0.061100</td>\n",
       "      <td>5.5702</td>\n",
       "    </tr>\n",
       "    <tr>\n",
       "      <th>Meta-Playlist CF</th>\n",
       "      <td>0.017968</td>\n",
       "      <td>0.053416</td>\n",
       "      <td>5.2572</td>\n",
       "    </tr>\n",
       "    <tr>\n",
       "      <th>Advanced CF</th>\n",
       "      <td>0.020694</td>\n",
       "      <td>0.062975</td>\n",
       "      <td>6.1200</td>\n",
       "    </tr>\n",
       "  </tbody>\n",
       "</table>\n",
       "</div>"
      ],
      "text/plain": [
       "                  R-Precision      NDCG  Recommended Songs Clicks\n",
       "Baseline CF          0.022812  0.061100                    5.5702\n",
       "Meta-Playlist CF     0.017968  0.053416                    5.2572\n",
       "Advanced CF          0.020694  0.062975                    6.1200"
      ]
     },
     "metadata": {},
     "output_type": "display_data"
    }
   ],
   "source": [
    "df_cf = pd.DataFrame([R_cf_list,N_cf_list,C_cf_list]).T\n",
    "df_cf.columns = ['R-Precision','NDCG','Recommended Songs Clicks']\n",
    "df_cf.index = ['Baseline CF','Meta-Playlist CF','Advanced CF']\n",
    "display(df_cf)"
   ]
  },
  {
   "cell_type": "markdown",
   "metadata": {},
   "source": [
    "### 3. Content Based Models"
   ]
  },
  {
   "cell_type": "code",
   "execution_count": 11,
   "metadata": {},
   "outputs": [],
   "source": [
    "R_cb_list,N_cb_list,C_cb_list = [],[],[]"
   ]
  },
  {
   "cell_type": "markdown",
   "metadata": {},
   "source": [
    "**Clustering - Emotion**"
   ]
  },
  {
   "cell_type": "code",
   "execution_count": 12,
   "metadata": {
    "scrolled": true
   },
   "outputs": [
    {
     "name": "stdout",
     "output_type": "stream",
     "text": [
      "R_precision: 0.0006313815378203792\n",
      "NDCG: 0.0020591344073271735\n",
      "#clicks: 9.656386747239008\n"
     ]
    }
   ],
   "source": [
    "R, N, C = test_scores('validation/val_Y_lyric_score_c.json')\n",
    "R_cb_list.append(R)\n",
    "N_cb_list.append(N)\n",
    "C_cb_list.append(C)"
   ]
  },
  {
   "cell_type": "markdown",
   "metadata": {},
   "source": [
    "**Clustering - Genre**"
   ]
  },
  {
   "cell_type": "code",
   "execution_count": 13,
   "metadata": {
    "scrolled": true
   },
   "outputs": [
    {
     "name": "stdout",
     "output_type": "stream",
     "text": [
      "R_precision: 7.052186177715091e-05\n",
      "NDCG: 0.00025659978471954096\n",
      "#clicks: 9.962522667741286\n"
     ]
    }
   ],
   "source": [
    "R, N, C = test_scores('validation/val_Y_genre_score_c.json')\n",
    "R_cb_list.append(R)\n",
    "N_cb_list.append(N)\n",
    "C_cb_list.append(C)"
   ]
  },
  {
   "cell_type": "markdown",
   "metadata": {},
   "source": [
    "**Clustering - Audio Feature**"
   ]
  },
  {
   "cell_type": "code",
   "execution_count": 14,
   "metadata": {
    "scrolled": true
   },
   "outputs": [
    {
     "name": "stdout",
     "output_type": "stream",
     "text": [
      "R_precision: 0.0004755188394116462\n",
      "NDCG: 0.0013314987133503497\n",
      "#clicks: 9.748942172073344\n"
     ]
    }
   ],
   "source": [
    "R, N, C = test_scores('validation/val_Y_audio_score_c.json')\n",
    "R_cb_list.append(R)\n",
    "N_cb_list.append(N)\n",
    "C_cb_list.append(C)"
   ]
  },
  {
   "cell_type": "markdown",
   "metadata": {},
   "source": [
    "**No Clustering - Emotion**"
   ]
  },
  {
   "cell_type": "code",
   "execution_count": 15,
   "metadata": {
    "scrolled": true
   },
   "outputs": [
    {
     "name": "stdout",
     "output_type": "stream",
     "text": [
      "R_precision: 0.0008689310272973536\n",
      "NDCG: 0.002719010744180856\n",
      "#clicks: 9.550531360700147\n"
     ]
    }
   ],
   "source": [
    "R, N, C = test_scores('validation/val_Y_lyric_score_a.json')\n",
    "R_cb_list.append(R)\n",
    "N_cb_list.append(N)\n",
    "C_cb_list.append(C)"
   ]
  },
  {
   "cell_type": "markdown",
   "metadata": {},
   "source": [
    "**No Clustering - Genre**"
   ]
  },
  {
   "cell_type": "code",
   "execution_count": 16,
   "metadata": {
    "scrolled": true
   },
   "outputs": [
    {
     "name": "stdout",
     "output_type": "stream",
     "text": [
      "R_precision: 0.00010276042716099134\n",
      "NDCG: 0.0003291407777316353\n",
      "#clicks: 9.948418295385855\n"
     ]
    }
   ],
   "source": [
    "R, N, C = test_scores('validation/val_Y_genre_score_a.json')\n",
    "R_cb_list.append(R)\n",
    "N_cb_list.append(N)\n",
    "C_cb_list.append(C)"
   ]
  },
  {
   "cell_type": "markdown",
   "metadata": {},
   "source": [
    "**No Clustering - Audio Feature**"
   ]
  },
  {
   "cell_type": "code",
   "execution_count": 17,
   "metadata": {
    "scrolled": true
   },
   "outputs": [
    {
     "name": "stdout",
     "output_type": "stream",
     "text": [
      "R_precision: 0.0003788031432601249\n",
      "NDCG: 0.001110149776504973\n",
      "#clicks: 9.795688091879912\n"
     ]
    }
   ],
   "source": [
    "R, N, C = test_scores('validation/val_Y_audio_score_a.json')\n",
    "R_cb_list.append(R)\n",
    "N_cb_list.append(N)\n",
    "C_cb_list.append(C)"
   ]
  },
  {
   "cell_type": "markdown",
   "metadata": {},
   "source": [
    "#### Summary"
   ]
  },
  {
   "cell_type": "code",
   "execution_count": 19,
   "metadata": {},
   "outputs": [
    {
     "data": {
      "text/html": [
       "<div>\n",
       "<style scoped>\n",
       "    .dataframe tbody tr th:only-of-type {\n",
       "        vertical-align: middle;\n",
       "    }\n",
       "\n",
       "    .dataframe tbody tr th {\n",
       "        vertical-align: top;\n",
       "    }\n",
       "\n",
       "    .dataframe thead th {\n",
       "        text-align: right;\n",
       "    }\n",
       "</style>\n",
       "<table border=\"1\" class=\"dataframe\">\n",
       "  <thead>\n",
       "    <tr style=\"text-align: right;\">\n",
       "      <th></th>\n",
       "      <th>R-Precision</th>\n",
       "      <th>NDCG</th>\n",
       "      <th>Recommended Songs Clicks</th>\n",
       "    </tr>\n",
       "  </thead>\n",
       "  <tbody>\n",
       "    <tr>\n",
       "      <th>Clustering - Emotion</th>\n",
       "      <td>0.000631</td>\n",
       "      <td>0.002059</td>\n",
       "      <td>9.656387</td>\n",
       "    </tr>\n",
       "    <tr>\n",
       "      <th>Clustering - Genre</th>\n",
       "      <td>0.000071</td>\n",
       "      <td>0.000257</td>\n",
       "      <td>9.962523</td>\n",
       "    </tr>\n",
       "    <tr>\n",
       "      <th>Clustering - Audio Feature</th>\n",
       "      <td>0.000476</td>\n",
       "      <td>0.001331</td>\n",
       "      <td>9.748942</td>\n",
       "    </tr>\n",
       "    <tr>\n",
       "      <th>No Clustering - Emotion</th>\n",
       "      <td>0.000869</td>\n",
       "      <td>0.002719</td>\n",
       "      <td>9.550531</td>\n",
       "    </tr>\n",
       "    <tr>\n",
       "      <th>No Clustering - Genre</th>\n",
       "      <td>0.000103</td>\n",
       "      <td>0.000329</td>\n",
       "      <td>9.948418</td>\n",
       "    </tr>\n",
       "    <tr>\n",
       "      <th>No Clustering - Audio Feature</th>\n",
       "      <td>0.000379</td>\n",
       "      <td>0.001110</td>\n",
       "      <td>9.795688</td>\n",
       "    </tr>\n",
       "  </tbody>\n",
       "</table>\n",
       "</div>"
      ],
      "text/plain": [
       "                               R-Precision      NDCG  Recommended Songs Clicks\n",
       "Clustering - Emotion              0.000631  0.002059                  9.656387\n",
       "Clustering - Genre                0.000071  0.000257                  9.962523\n",
       "Clustering - Audio Feature        0.000476  0.001331                  9.748942\n",
       "No Clustering - Emotion           0.000869  0.002719                  9.550531\n",
       "No Clustering - Genre             0.000103  0.000329                  9.948418\n",
       "No Clustering - Audio Feature     0.000379  0.001110                  9.795688"
      ]
     },
     "metadata": {},
     "output_type": "display_data"
    }
   ],
   "source": [
    "df_cb = pd.DataFrame([R_cb_list,N_cb_list,C_cb_list]).T\n",
    "df_cb.columns = ['R-Precision','NDCG','Recommended Songs Clicks']\n",
    "df_cb.index = ['Clustering - Emotion','Clustering - Genre', 'Clustering - Audio Feature',\n",
    "              'No Clustering - Emotion','No Clustering - Genre', 'No Clustering - Audio Feature']\n",
    "display(df_cb)"
   ]
  },
  {
   "cell_type": "markdown",
   "metadata": {},
   "source": [
    "### 4. Hybrid Models"
   ]
  },
  {
   "cell_type": "markdown",
   "metadata": {},
   "source": [
    "From the results above, we find that collaborative filtering models perform better than the content-based models. Therefore, in the hybridization process, we will focus on combining collaborative filtering models with other models. Based on the performance of the various content-based models, we will use the emotion model without clustering and the audio feature model with clustering. Lastly, because the training dataset for baseline content baseline model may have a few overlaps with the validation set, we exclude it from our final hybrid model."
   ]
  },
  {
   "cell_type": "markdown",
   "metadata": {},
   "source": [
    "**Stacking with Logistic Regression CV**"
   ]
  },
  {
   "cell_type": "code",
   "execution_count": 29,
   "metadata": {
    "scrolled": true
   },
   "outputs": [
    {
     "name": "stdout",
     "output_type": "stream",
     "text": [
      "R_precision: 0.035660000000000004\n",
      "NDCG: 0.08328080372461233\n",
      "#clicks: 5.0124\n",
      "\n",
      "R_precision: 0.020246\n",
      "NDCG: 0.06229288799130191\n",
      "#clicks: 6.1938\n",
      "\n",
      "R_precision: 0.018852\n",
      "NDCG: 0.061758758863905396\n",
      "#clicks: 6.3528\n",
      "\n",
      "R_precision: 0.035814\n",
      "NDCG: 0.08360293878734794\n",
      "#clicks: 5.0066\n",
      "\n"
     ]
    }
   ],
   "source": [
    "R_stack_list,N_stack_list,C_stack_list = [],[],[]\n",
    "val_Y_files = ['validation/hybridize_BL2CF2CB.json',\n",
    "               'validation/hybridize_2CF2CB.json',\n",
    "               'validation/hybridize_2CFs.json',\n",
    "               'validation/hybridize_BLmeta.json']\n",
    "for file in val_Y_files:\n",
    "    R, N, C = test_recs(file)\n",
    "    print()\n",
    "    R_stack_list.append(R)\n",
    "    N_stack_list.append(N)\n",
    "    C_stack_list.append(C)"
   ]
  },
  {
   "cell_type": "markdown",
   "metadata": {},
   "source": [
    "#### Summary"
   ]
  },
  {
   "cell_type": "code",
   "execution_count": 30,
   "metadata": {},
   "outputs": [
    {
     "data": {
      "text/html": [
       "<div>\n",
       "<style scoped>\n",
       "    .dataframe tbody tr th:only-of-type {\n",
       "        vertical-align: middle;\n",
       "    }\n",
       "\n",
       "    .dataframe tbody tr th {\n",
       "        vertical-align: top;\n",
       "    }\n",
       "\n",
       "    .dataframe thead th {\n",
       "        text-align: right;\n",
       "    }\n",
       "</style>\n",
       "<table border=\"1\" class=\"dataframe\">\n",
       "  <thead>\n",
       "    <tr style=\"text-align: right;\">\n",
       "      <th></th>\n",
       "      <th>R-Precision</th>\n",
       "      <th>NDCG</th>\n",
       "      <th>Recommended Songs Clicks</th>\n",
       "    </tr>\n",
       "  </thead>\n",
       "  <tbody>\n",
       "    <tr>\n",
       "      <th>Top500 &amp; CF-MetaPlaylist &amp; CF-Advanced &amp; CB-Emotion &amp; CB-Audio</th>\n",
       "      <td>0.035660</td>\n",
       "      <td>0.083281</td>\n",
       "      <td>5.0124</td>\n",
       "    </tr>\n",
       "    <tr>\n",
       "      <th>CF-MetaPlaylist &amp; CF-Advanced &amp; CB-Emotion &amp; CB-Audio</th>\n",
       "      <td>0.020246</td>\n",
       "      <td>0.062293</td>\n",
       "      <td>6.1938</td>\n",
       "    </tr>\n",
       "    <tr>\n",
       "      <th>CF-MetaPlaylist &amp; CF-Advanced</th>\n",
       "      <td>0.018852</td>\n",
       "      <td>0.061759</td>\n",
       "      <td>6.3528</td>\n",
       "    </tr>\n",
       "    <tr>\n",
       "      <th>Top500 &amp; CF-MetaPlaylist</th>\n",
       "      <td>0.035814</td>\n",
       "      <td>0.083603</td>\n",
       "      <td>5.0066</td>\n",
       "    </tr>\n",
       "  </tbody>\n",
       "</table>\n",
       "</div>"
      ],
      "text/plain": [
       "                                                    R-Precision      NDCG  \\\n",
       "Top500 & CF-MetaPlaylist & CF-Advanced & CB-Emo...     0.035660  0.083281   \n",
       "CF-MetaPlaylist & CF-Advanced & CB-Emotion & CB...     0.020246  0.062293   \n",
       "CF-MetaPlaylist & CF-Advanced                          0.018852  0.061759   \n",
       "Top500 & CF-MetaPlaylist                               0.035814  0.083603   \n",
       "\n",
       "                                                    Recommended Songs Clicks  \n",
       "Top500 & CF-MetaPlaylist & CF-Advanced & CB-Emo...                    5.0124  \n",
       "CF-MetaPlaylist & CF-Advanced & CB-Emotion & CB...                    6.1938  \n",
       "CF-MetaPlaylist & CF-Advanced                                         6.3528  \n",
       "Top500 & CF-MetaPlaylist                                              5.0066  "
      ]
     },
     "metadata": {},
     "output_type": "display_data"
    }
   ],
   "source": [
    "df_stack = pd.DataFrame([R_stack_list,N_stack_list,C_stack_list]).T\n",
    "df_stack.columns = ['R-Precision','NDCG','Recommended Songs Clicks']\n",
    "df_stack.index = ['Top500 & CF-MetaPlaylist & CF-Advanced & CB-Emotion & CB-Audio',\n",
    "                 'CF-MetaPlaylist & CF-Advanced & CB-Emotion & CB-Audio',\n",
    "                 'CF-MetaPlaylist & CF-Advanced',\n",
    "                 'Top500 & CF-MetaPlaylist']\n",
    "display(df_stack)"
   ]
  },
  {
   "cell_type": "markdown",
   "metadata": {},
   "source": [
    "**Combining with Assigned Weights**"
   ]
  },
  {
   "cell_type": "code",
   "execution_count": 24,
   "metadata": {},
   "outputs": [
    {
     "name": "stdout",
     "output_type": "stream",
     "text": [
      "R_precision: 0.018852\n",
      "NDCG: 0.061758758863905396\n",
      "#clicks: 6.3528\n"
     ]
    }
   ],
   "source": [
    "R_comb_list,N_comb_list,C_comb_list = [],[],[]\n",
    "val_Y_files = ['validation/weightedsum_2CFs.json']\n",
    "for file in val_Y_files:\n",
    "    R, N, C = test_recs(file)\n",
    "    R_comb_list.append(R)\n",
    "    N_comb_list.append(N)\n",
    "    C_comb_list.append(C)"
   ]
  }
 ],
 "metadata": {
  "kernelspec": {
   "display_name": "Python 3",
   "language": "python",
   "name": "python3"
  },
  "language_info": {
   "codemirror_mode": {
    "name": "ipython",
    "version": 3
   },
   "file_extension": ".py",
   "mimetype": "text/x-python",
   "name": "python",
   "nbconvert_exporter": "python",
   "pygments_lexer": "ipython3",
   "version": "3.6.6"
  }
 },
 "nbformat": 4,
 "nbformat_minor": 2
}
