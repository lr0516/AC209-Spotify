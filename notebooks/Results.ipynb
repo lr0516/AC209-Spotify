{
 "cells": [
  {
   "cell_type": "markdown",
   "metadata": {},
   "source": [
    "# Results"
   ]
  },
  {
   "cell_type": "code",
   "execution_count": 1,
   "metadata": {},
   "outputs": [],
   "source": [
    "import pandas as pd\n",
    "import numpy as np\n",
    "import os\n",
    "import re\n",
    "import json\n",
    "import random\n",
    "import math"
   ]
  },
  {
   "cell_type": "markdown",
   "metadata": {},
   "source": [
    "## I. Metrics Definition\n",
    "\n",
    "We will evaluate our models based on R-Precision, Normalized Discoutned Cumulative Gain (NDCG), and Recommended Songs Clicks. In order to clearly define our metrics, we use $G$ to denote the ordered ground truth list of songs that the user would like to listen to, and we use R to denote the ordered recommendations produced by our model. We use $\\mid \\cdot \\mid$ to indicate the length of a list, and we use $R_i$ to refer to the i-th song in our recommendation. Furthermore, we say a song in our recommentation is relavent if it also exists in the ground truth list. We then define $r_i = 1$ if $R_i$ is relavent and $r_i = 0$ if otherwise.\n",
    "\n",
    "### 1. R-Precision\n",
    "\n",
    "R-Precision measures the overlap between the ground truth set and our recommendation. Its value is simply the number of relavent songs in our model's  first $\\mid G \\mid$ recommendations divided by the length of the ground truth set.\n",
    "<center>$$ \\text{R-Precision} = \\frac{\\sum_{1}^{\\mid G \\mid} r_i}{\\mid G \\mid}$$</center>\n",
    "\n",
    "### 2. NDCG\n",
    "\n",
    "Normalized Discoutned Cumulative Gain (NDCG) further measures the quality of order in our recommendation. It gives more credit when a relavent song is placed higher in our recommendation. DCG is a score on our recommendation, and IDCG is the ideal DCG value is all of our top $\\mid G \\mid$ recommended songs are relavent. By dividing the two, NDCG gives us a normalized score.\n",
    "<center>$$ \\text{DCG} = r_1 + \\sum_{2}^{\\mid R \\mid} \\frac{r_i}{log_2(i+1)}$$</center>\n",
    "<center>$$ \\text{IDCG} = 1 + \\sum_{2}^{\\mid G \\mid} \\frac{1}{log_2(i+1)}$$</center>\n",
    "<center>$$ \\text{NDCG} = \\frac{\\text{DCG}}{\\text{IDCG}}$$</center>\n",
    "\n",
    "### 3. Recommended Songs Clicks \n",
    "\n",
    "Recommended Songs Clicks is a special metric targeted for Spotify. Spotify has a feature that generates ten songs in a round. The Recommended Songs Clicks is the minimal number of refreshes required to get the first relavent song. \n",
    "<center>$$ \\text{Clicks} = \\left \\lfloor \\frac{argmin_i\\{R_i:R_i \\subset G\\}}{10} \\right \\rfloor +1$$</center>\n",
    "When there are more songs in R than in G, we only consider the first $\\mid G \\mid$ songs in R. If none of the recommended songs is relavent, the value of the Recommended Songs Clicks would be $1 + \\frac{|R|}{10}$, which is one more than the maximal number of rounds possible."
   ]
  },
  {
   "cell_type": "code",
   "execution_count": 2,
   "metadata": {},
   "outputs": [],
   "source": [
    "def R_precision(rec, Y):\n",
    "    count = 0\n",
    "    for song in Y:\n",
    "        if song in rec[:len(Y)]:\n",
    "            count += 1 \n",
    "    return count/len(Y)\n",
    "\n",
    "def NDCG(rec, Y):\n",
    "    IDCG = 0\n",
    "    for i in range(0,len(Y)):\n",
    "        if i == 0: IDCG += 1\n",
    "        else: IDCG += 1/math.log((i+2),2)\n",
    "    DCG = 0\n",
    "    for i in range(0,len(rec)):\n",
    "        if i == 0 and rec[i] in Y: DCG += 1\n",
    "        elif i > 0 and rec[i] in Y: DCG += 1/math.log((i+2),2)     \n",
    "    return DCG/IDCG\n",
    "\n",
    "def clicks(rec, Y):\n",
    "    found_at = -1\n",
    "    find = 0\n",
    "    while found_at == -1 and find < len(Y):\n",
    "        if rec[find] in Y: found_at = find\n",
    "        else: find += 1\n",
    "    if found_at == -1:\n",
    "        return len(Y)//10 +1\n",
    "    else:\n",
    "        return found_at//10 +1\n",
    "\n",
    "def TEST_ALL(recs, Ys):\n",
    "    R_precision_scores = []\n",
    "    NDCG_scores = []\n",
    "    clicks_scores = []\n",
    "    for i in range(len(Ys)):\n",
    "        rec = recs[i]\n",
    "        Y = Ys[i]\n",
    "        R_precision_scores.append(R_precision(rec,Y))\n",
    "        NDCG_scores.append(NDCG(rec,Y))\n",
    "        clicks_scores.append(clicks(rec,Y))\n",
    "    return R_precision_scores,NDCG_scores, clicks_scores"
   ]
  },
  {
   "cell_type": "markdown",
   "metadata": {},
   "source": [
    "## II. Model Evaluation\n",
    "\n",
    "During the hybridization process, we have chosen 5,000 playlists and divided them into input and output parts. The inputs have lengths from 0 to 150, distributed roughly evenly, and the outputs all have lengths of 100. We feed our models with the validation input, and each model produces 500 ordered song recommendations. We then calculate the three metrics for each of the models.\n",
    "\n",
    "Because we generated our validation set from MPD, and MPD does not provide information on a user's preference among the songs within a single playlist, we make the assumption that the position of a song indicates the user's preference. That is to say, we consider that users prefer songs that are placed in the front of the playlists, and we calculate NDCG based on this assumption. "
   ]
  },
  {
   "cell_type": "markdown",
   "metadata": {},
   "source": [
    "### 1. Baseline Model"
   ]
  },
  {
   "cell_type": "markdown",
   "metadata": {},
   "source": [
    "### 2. Single Models"
   ]
  },
  {
   "cell_type": "markdown",
   "metadata": {},
   "source": [
    "### 3. Hybrid Models"
   ]
  }
 ],
 "metadata": {
  "kernelspec": {
   "display_name": "Python 3",
   "language": "python",
   "name": "python3"
  },
  "language_info": {
   "codemirror_mode": {
    "name": "ipython",
    "version": 3
   },
   "file_extension": ".py",
   "mimetype": "text/x-python",
   "name": "python",
   "nbconvert_exporter": "python",
   "pygments_lexer": "ipython3",
   "version": "3.6.6"
  }
 },
 "nbformat": 4,
 "nbformat_minor": 2
}
