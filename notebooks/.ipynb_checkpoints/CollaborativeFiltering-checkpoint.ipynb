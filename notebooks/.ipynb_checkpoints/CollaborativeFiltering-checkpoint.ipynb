{
 "cells": [
  {
   "cell_type": "markdown",
   "metadata": {},
   "source": [
    "# Collaborative Filtering "
   ]
  },
  {
   "cell_type": "markdown",
   "metadata": {},
   "source": [
    "It is intuitive that people who listen to the same songs have similar tastes in music, and this is the basic assumption of collaborative filtering. We built up the collaborative filtering models based on Million Playlist Dataset, assuming that users with similar past behaviors are likely to listen to the same songs in the future. We have three collaborative filtering models which are:\n",
    "    - Baseline Model\n",
    "    - Advanced Model\n",
    "    - Meta-Playlist Model\n",
    "We used the [Spotlight library](https://maciejkula.github.io/spotlight/index.html) to build these models. These three models differ the most in their training dataset."
   ]
  },
  {
   "cell_type": "markdown",
   "metadata": {},
   "source": [
    "## Baseline Model"
   ]
  },
  {
   "cell_type": "markdown",
   "metadata": {},
   "source": [
    "DESCRIPTION + CODE"
   ]
  },
  {
   "cell_type": "markdown",
   "metadata": {},
   "source": [
    "## Advanced Model"
   ]
  },
  {
   "cell_type": "markdown",
   "metadata": {},
   "source": [
    "DESCRIPTION + CODE"
   ]
  },
  {
   "cell_type": "markdown",
   "metadata": {},
   "source": [
    "## Meta-Playlist Model"
   ]
  },
  {
   "cell_type": "markdown",
   "metadata": {},
   "source": [
    "To use as many data as possible, we created these ‘meta-playlist’. We observed that the\n",
    "MPD dataset contains many sets of playlists with shared titles, the top five of which being ‘country’,\n",
    "‘chill’, ‘rap’, ‘workout’, and ‘oldies’. We combined each set of playlists with the same title into a\n",
    "meta-playlist. Each meta-playlist contains all the songs from the sub-playlists and keeps track of the\n",
    "number of times each song appears in all the sub-playlists.\n",
    "Then we fitted a collaborative filtering model on the meta-playlists. This method contains fewer rows\n",
    "and more columns compared to the previous model described."
   ]
  },
  {
   "cell_type": "markdown",
   "metadata": {},
   "source": [
    "Currently, we selected the top 100 common titles to be the titles of our 100 meta-playlists.\n",
    "This includes 272,584 playlists from MPD in total and 939,760 distinct songs, which give us 4,620,153\n",
    "(playlist, song, rating) pairs. We treated each meta-playlist as one user, whose music preference is clearly\n",
    "stated in the title. The number of appearance of each song was treated as the song’s rating by the user.\n",
    "The final model would give a score to every song included in the training dataset for every playlist\n",
    "in the test dataset. For every playlist in the test dataset, we could generate the songs to which the model\n",
    "thinks that the playlist will give rather high scores."
   ]
  },
  {
   "cell_type": "markdown",
   "metadata": {},
   "source": [
    "We built up an implicit feedback model and use matrix factorization techniques for this\n",
    "problem . We fed the model with (playlist, song, rating) interactions. 80% of the data were used for\n",
    "training, the rest was used for validation. 10 epoches were run to give an idea on this model."
   ]
  },
  {
   "cell_type": "code",
   "execution_count": null,
   "metadata": {},
   "outputs": [],
   "source": [
    "import numpy as np\n",
    "\n",
    "from spotlight.interactions import Interactions\n",
    "from spotlight.cross_validation import random_train_test_split\n",
    "from spotlight.datasets.movielens import get_movielens_dataset\n",
    "from spotlight.evaluation import rmse_score\n",
    "from spotlight.evaluation import mrr_score\n",
    "from spotlight.evaluation import precision_recall_score\n",
    "from spotlight.factorization.explicit import ExplicitFactorizationModel\n",
    "from spotlight.factorization.implicit import ImplicitFactorizationModel\n",
    "\n",
    "from enum import Enum"
   ]
  },
  {
   "cell_type": "code",
   "execution_count": null,
   "metadata": {},
   "outputs": [],
   "source": [
    "# Load data\n",
    "import json\n",
    "with open('CF_matrix_condensed.json', 'r') as f:\n",
    "    data = json.load(f)\n",
    "    \n",
    "user = [u for u, i, r in data]\n",
    "item = [i for u, i, r in data]\n",
    "rating = [r for u, i, r in data]"
   ]
  },
  {
   "cell_type": "code",
   "execution_count": null,
   "metadata": {},
   "outputs": [],
   "source": [
    "# Create an Enum object to index the user names\n",
    "User_id = Enum(value = 'User_id', names = list(set(user)))"
   ]
  },
  {
   "cell_type": "code",
   "execution_count": null,
   "metadata": {},
   "outputs": [],
   "source": [
    "# Replace the user name strings with integer indices specified in the Enum object\n",
    "for i in range(len(user)):\n",
    "    u = user[i]\n",
    "    user[i] = User_id[u].value"
   ]
  },
  {
   "cell_type": "code",
   "execution_count": null,
   "metadata": {},
   "outputs": [],
   "source": [
    "# Replace the item id strings with integer indices specified in the Enum object\n",
    "a = list(set(item))\n",
    "\n",
    "item_id = {}\n",
    "id = 1\n",
    "for i in range(len(a)):\n",
    "    item_id[a[i]] = id\n",
    "    id = id+1\n",
    "\n",
    "for i in range(len(item)):\n",
    "    it = item[i]\n",
    "    item[i] = item_id[it]    "
   ]
  },
  {
   "cell_type": "code",
   "execution_count": null,
   "metadata": {},
   "outputs": [],
   "source": [
    "# Train the full model with 10 epochs\n",
    "data = Interactions(user_ids=np.array(user), item_ids=np.array(item), ratings=np.array(rating))\n",
    "train, test = random_train_test_split(data)\n",
    "model_full = ImplicitFactorizationModel()\n",
    "model_full.fit(train, verbose=1)\n"
   ]
  },
  {
   "cell_type": "code",
   "execution_count": null,
   "metadata": {},
   "outputs": [],
   "source": [
    "# Save the model\n",
    "import torch\n",
    "torch.save(model_full, 'meta_playlist_full')"
   ]
  },
  {
   "cell_type": "code",
   "execution_count": null,
   "metadata": {},
   "outputs": [],
   "source": [
    "# Load the validation data\n",
    "with open('Val_X.json', 'r') as f:\n",
    "    validation = json.load(f)"
   ]
  },
  {
   "cell_type": "code",
   "execution_count": null,
   "metadata": {},
   "outputs": [],
   "source": [
    "# Generate the score dictionaries\n",
    "reverse_item_id = {}\n",
    "for key, value in item_id.items():\n",
    "    reverse_item_id[value] = key\n",
    "    \n",
    "def top_500_dic(inp):\n",
    "    dic = {}\n",
    "    score = np.array([0] * len(model.predict(1)))\n",
    "    sum_w = 0\n",
    "    for i in range(1,101):\n",
    "        s = model.predict(i, np.array(inp))\n",
    "        w = sum(s) / (np.linalg.norm(s) * np.sqrt(len(inp)))\n",
    "        sum_w += w\n",
    "        score = w * model.predict(i) + score\n",
    "    score = (score/sum_w)[1:]\n",
    "    for index in np.argsort(score)[-1:-501:-1]:\n",
    "        dic[reverse_item_id[index + 1]] = score[index] # map the song id in string format to numeric score\n",
    "    return dic\n",
    "\n",
    "rec_playlist = []\n",
    "for each_input in validation:\n",
    "    input_id = []\n",
    "    for i in range(len(each_input)):\n",
    "        it = each_input[i]\n",
    "        try: \n",
    "            input_id.append(item_id[it]) # Handle songs not in item_id\n",
    "        except:\n",
    "            pass\n",
    "    if len(input_id) == 1: # Model has to predict on more than one item\n",
    "        input_id.append(input_id[0])\n",
    "    if len(input_id) == 0: #If no known input, randomly select songs\n",
    "        input_id.append(1)\n",
    "        input_id.append(2)\n",
    "    rec_playlist.append(top_500_dic(input_id))"
   ]
  },
  {
   "cell_type": "code",
   "execution_count": null,
   "metadata": {},
   "outputs": [],
   "source": [
    "# Output the results into a json file\n",
    "with open('score_500_full.json', 'w') as outfile:\n",
    "    json.dump(rec_playlist, outfile)"
   ]
  }
 ],
 "metadata": {
  "kernelspec": {
   "display_name": "Python 3",
   "language": "python",
   "name": "python3"
  },
  "language_info": {
   "codemirror_mode": {
    "name": "ipython",
    "version": 3
   },
   "file_extension": ".py",
   "mimetype": "text/x-python",
   "name": "python",
   "nbconvert_exporter": "python",
   "pygments_lexer": "ipython3",
   "version": "3.6.5"
  }
 },
 "nbformat": 4,
 "nbformat_minor": 2
}
