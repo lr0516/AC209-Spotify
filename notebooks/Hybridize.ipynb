{
 "cells": [
  {
   "cell_type": "markdown",
   "metadata": {},
   "source": [
    "# Hybrid Model"
   ]
  },
  {
   "cell_type": "code",
   "execution_count": 1,
   "metadata": {},
   "outputs": [],
   "source": [
    "import os\n",
    "import json\n",
    "import pandas as pd\n",
    "import numpy as np\n",
    "import matplotlib.pyplot as plt"
   ]
  },
  {
   "cell_type": "markdown",
   "metadata": {},
   "source": [
    "## I. Baseline Model"
   ]
  },
  {
   "cell_type": "markdown",
   "metadata": {},
   "source": [
    "Aside from the collaborative filtering and content-based models, we want to introduce one additional simple model as our baseline model. We select and order the top 500 songs that appear in the most playlists in MPD. In our baseline model, we use these 500 songs to recommend to all users, no matter what the input songs are.\n",
    "\n",
    "Because we have cleaned and saved the song and playlist data from MPD into a csv file, we can find the 500 most popular songs fairly easily."
   ]
  },
  {
   "cell_type": "code",
   "execution_count": null,
   "metadata": {},
   "outputs": [],
   "source": [
    "song_df = pd.read_csv('song_df.csv')\n",
    "song_df = song_df[['track_uri','num_pid']]\n",
    "song_df = song_df.sort_values('num_pid', ascending=False)"
   ]
  },
  {
   "cell_type": "code",
   "execution_count": 3,
   "metadata": {},
   "outputs": [],
   "source": [
    "top500 = list(song_df['track_uri'].values[:500])\n",
    "recs = [top500 for i in range(5000)]\n",
    "\n",
    "with open('val_Y_top500.json','w') as f:\n",
    "    data = json.dump(recs,f)"
   ]
  },
  {
   "cell_type": "markdown",
   "metadata": {},
   "source": [
    "## II. Validation Set Selection"
   ]
  },
  {
   "cell_type": "markdown",
   "metadata": {},
   "source": [
    "Before moving on to building the hybrid model, we select a validation set of 5,000 playlists. We will divide each playlist in the validation set to an input part and an output part, and we will use them for training in the hybridization process as well as model selection at the end. We set several criteria in selecting this validation set.\n",
    "\n",
    "- First, each playlist should not contain duplicates of songs. Otherwise, repeated songs may harm the performance measurements of our model, as our models never recommendent existing songs. \n",
    "\n",
    "- Second, we want all the outputs to be of length 100, so we filtered our playlists that are not long enough (contain fewer than 100 unique songs), and we randomly sample from the remaining pool.\n",
    "\n",
    "- In order to better simulate the music consumption process, we take the last 100 songs from each playlist as our output, and take the rest as our input. Notice that the order of the last 100 songs is stored, in order to calculate Normalized Discounted Cumulative Gain (NDCG).\n",
    "\n",
    "- Lastly, in order to satisfy different users, we try to keep the input length evenly distributed between 0 and 150. In our final validation set, 100 input lists have two or fewer songs, among which 37 inputs are totally empty."
   ]
  },
  {
   "cell_type": "code",
   "execution_count": 2,
   "metadata": {},
   "outputs": [],
   "source": [
    "'''Read MPD: store songs in each playlist, removing duplicates'''\n",
    "data_path = os.path.join(os.getcwd(),'millionplaylist','data')\n",
    "playlist_fn = os.listdir(data_path)\n",
    "\n",
    "pl_dict = {}"
   ]
  },
  {
   "cell_type": "code",
   "execution_count": null,
   "metadata": {},
   "outputs": [],
   "source": [
    "for fn in sorted(playlist_fn):\n",
    "    print(fn)\n",
    "    with open(os.path.join(data_path,fn)) as f:\n",
    "        data = json.load(f)\n",
    "\n",
    "    playlists = data['playlists']\n",
    "    \n",
    "    for playlist in playlists:\n",
    "        # get data\n",
    "        pid = playlist['pid']\n",
    "        #num_followers = playlist['num_followers']\n",
    "        unique_tracks = set()\n",
    "        tracks = []\n",
    "        for song in playlist['tracks']:\n",
    "            track_uri = song['track_uri'].split(':')[2]\n",
    "            tracks.append(track_uri)\n",
    "            unique_tracks.add(track_uri)\n",
    "        num_tracks = len(tracks)\n",
    "        num_unique_tracks = len(unique_tracks)\n",
    "        # store data\n",
    "        pl_dict[pid] = {'tracks': tracks,\n",
    "                        #'num_followers': num_followers, \n",
    "                        'num_tracks': num_tracks,'num_unique_tracks': num_unique_tracks}"
   ]
  },
  {
   "cell_type": "code",
   "execution_count": 4,
   "metadata": {},
   "outputs": [
    {
     "data": {
      "text/html": [
       "<div>\n",
       "<style scoped>\n",
       "    .dataframe tbody tr th:only-of-type {\n",
       "        vertical-align: middle;\n",
       "    }\n",
       "\n",
       "    .dataframe tbody tr th {\n",
       "        vertical-align: top;\n",
       "    }\n",
       "\n",
       "    .dataframe thead th {\n",
       "        text-align: right;\n",
       "    }\n",
       "</style>\n",
       "<table border=\"1\" class=\"dataframe\">\n",
       "  <thead>\n",
       "    <tr style=\"text-align: right;\">\n",
       "      <th></th>\n",
       "      <th>pid</th>\n",
       "      <th>tracks</th>\n",
       "      <th>num_tracks</th>\n",
       "      <th>num_unique_tracks</th>\n",
       "    </tr>\n",
       "  </thead>\n",
       "  <tbody>\n",
       "    <tr>\n",
       "      <th>0</th>\n",
       "      <td>0</td>\n",
       "      <td>[0UaMYEvWZi0ZqiDOoHU3YI, 6I9VzXrHxO9rA9A5euc8A...</td>\n",
       "      <td>52</td>\n",
       "      <td>51</td>\n",
       "    </tr>\n",
       "    <tr>\n",
       "      <th>1</th>\n",
       "      <td>1</td>\n",
       "      <td>[2HHtWyy5CgaQbC7XSoOb0e, 1MYYt7h6amcrauCOoso3G...</td>\n",
       "      <td>39</td>\n",
       "      <td>39</td>\n",
       "    </tr>\n",
       "    <tr>\n",
       "      <th>2</th>\n",
       "      <td>2</td>\n",
       "      <td>[74tqql9zP6JjF5hjkHHUXp, 4erhEGuOGQgjv3p1bccnp...</td>\n",
       "      <td>64</td>\n",
       "      <td>64</td>\n",
       "    </tr>\n",
       "    <tr>\n",
       "      <th>3</th>\n",
       "      <td>3</td>\n",
       "      <td>[4WJ7UMD4i6DOPzyXU5pZSz, 1Kzxd1kkjaGX4JZz2CYsX...</td>\n",
       "      <td>126</td>\n",
       "      <td>126</td>\n",
       "    </tr>\n",
       "    <tr>\n",
       "      <th>4</th>\n",
       "      <td>4</td>\n",
       "      <td>[4iCGSi1RonREsPtfEKYj5b, 5qqabIl2vWzo9ApSC317s...</td>\n",
       "      <td>17</td>\n",
       "      <td>17</td>\n",
       "    </tr>\n",
       "  </tbody>\n",
       "</table>\n",
       "</div>"
      ],
      "text/plain": [
       "   pid                                             tracks  num_tracks  \\\n",
       "0    0  [0UaMYEvWZi0ZqiDOoHU3YI, 6I9VzXrHxO9rA9A5euc8A...          52   \n",
       "1    1  [2HHtWyy5CgaQbC7XSoOb0e, 1MYYt7h6amcrauCOoso3G...          39   \n",
       "2    2  [74tqql9zP6JjF5hjkHHUXp, 4erhEGuOGQgjv3p1bccnp...          64   \n",
       "3    3  [4WJ7UMD4i6DOPzyXU5pZSz, 1Kzxd1kkjaGX4JZz2CYsX...         126   \n",
       "4    4  [4iCGSi1RonREsPtfEKYj5b, 5qqabIl2vWzo9ApSC317s...          17   \n",
       "\n",
       "   num_unique_tracks  \n",
       "0                 51  \n",
       "1                 39  \n",
       "2                 64  \n",
       "3                126  \n",
       "4                 17  "
      ]
     },
     "execution_count": 4,
     "metadata": {},
     "output_type": "execute_result"
    }
   ],
   "source": [
    "pl_df = pd.DataFrame.from_dict(pl_dict,orient='index')\n",
    "pl_df.insert(0,'pid',pl_df.index)\n",
    "pl_df.head()"
   ]
  },
  {
   "cell_type": "code",
   "execution_count": 5,
   "metadata": {},
   "outputs": [],
   "source": [
    "'''filter out playlists that have fewer than 100 songs'''\n",
    "pl_pool = pl_df.loc[pl_df['num_unique_tracks']>=100]\\\n",
    ".loc[pl_df['num_unique_tracks']==pl_df['num_tracks']]"
   ]
  },
  {
   "cell_type": "code",
   "execution_count": 7,
   "metadata": {},
   "outputs": [],
   "source": [
    "'''sample playlists based on length'''\n",
    "pl_selected = pd.DataFrame(columns = pl_pool.columns)\n",
    "for i in np.arange(100,250,3):\n",
    "    start = i\n",
    "    end = i+2\n",
    "    if end == 249: end = 250\n",
    "    select = pl_pool.loc[pl_pool['num_tracks']>=start]\\\n",
    "    .loc[pl_pool['num_tracks']<=end].sample(n=100,random_state=42)\n",
    "    pl_selected = pd.concat([pl_selected,select])"
   ]
  },
  {
   "cell_type": "code",
   "execution_count": 8,
   "metadata": {},
   "outputs": [
    {
     "name": "stdout",
     "output_type": "stream",
     "text": [
      "number of total cold start problems: 37\n"
     ]
    }
   ],
   "source": [
    "'''Find number of completely cold start problems'''\n",
    "num_coldstart = len(pl_selected.loc[pl_selected['num_tracks'] == 100])\n",
    "print(f'number of total cold start problems: {num_coldstart}')"
   ]
  },
  {
   "cell_type": "code",
   "execution_count": 9,
   "metadata": {},
   "outputs": [],
   "source": [
    "'''Divide each playlist into input and output, and save to json'''\n",
    "selected_tracks = pl_selected.tracks.values\n",
    "\n",
    "val_X = []\n",
    "val_Y = []\n",
    "for tracks in selected_tracks:\n",
    "    val_X.append(tracks[:-100])\n",
    "    val_Y.append(tracks[-100:])"
   ]
  },
  {
   "cell_type": "code",
   "execution_count": 10,
   "metadata": {},
   "outputs": [],
   "source": [
    "with open(\"val_X.json\", \"w\") as f:\n",
    "    data_json = json.dump(val_X,f)\n",
    "\n",
    "with open(\"val_Y.json\", \"w\") as f:\n",
    "    data_json = json.dump(val_Y,f)\n",
    "\n",
    "with open(\"val_pid.json\", \"w\") as f:\n",
    "    data_json = json.dump(list(pl_selected.pid.values),f)"
   ]
  },
  {
   "cell_type": "markdown",
   "metadata": {},
   "source": [
    "## III. Model Hybridization: "
   ]
  },
  {
   "cell_type": "markdown",
   "metadata": {},
   "source": [
    "So far, we have constructed three sets of models that we consider combining in our final hybrid model: collaborative filtering models, content-based models, and a baseline model recommending the most popular songs. Moreover, we have selected a validation set, splited into a list of 5,000 inputs and a list 5,000 outputs. For each input list, each model outputs 500 song recommendations, with corresponding scores used to order the recommendations.\n",
    "\n",
    "### 1. Stacking with Logistic Regression CV\n",
    "\n",
    "We can transform the model hybridization problem to a stacking problem. Regarding each recommended song track for each input list, we have multiple score values from the different models. We consider this set of values to be one observation. Moreover, we can assign the output of this observation to be one if this song track actually exists in the true validation output corresponding to this particular input, and we assign zero otherwise. Since the stacking problem outputs only take up values one or zero, we use Logistic Regression to achieve stacking. In order not to overfit to this validation set, we apply Cross Validation when we train our Logistic Regression model.\n",
    "\n",
    "If we want to combine all the five models, they will generate 2,500 songs in total. Although there will be some overlaps, the number of unique song recommendations is still much larger than the number of true outputs, which is 100. This would result in an unbalanced model, which classifies more songs as not recommended than it should. To combat this issue, when we train our Logistic Regression CV model, we keep all the observations whose output is 1, and randomly sample observations whose output is 0, so that the resulting stacking model is balanced."
   ]
  },
  {
   "cell_type": "code",
   "execution_count": null,
   "metadata": {},
   "outputs": [],
   "source": [
    "with open('val_Y.json', 'r') as f:\n",
    "    val_Y = json.load(f)\n",
    "output = []\n",
    "for lst in val_Y:\n",
    "    dic = {}\n",
    "    for i in lst:\n",
    "        dic[i] = 1\n",
    "    output.append(dic)"
   ]
  },
  {
   "cell_type": "code",
   "execution_count": null,
   "metadata": {},
   "outputs": [],
   "source": [
    "def hybridize(files):\n",
    "    train_x = []\n",
    "    train_y = []\n",
    "    data_list = []\n",
    "    for file in files:\n",
    "        with open(file, 'r') as f:\n",
    "            data_list.append(json.load(f))\n",
    "\n",
    "    predict = [0] * len(data_list[0])\n",
    "    track_record = [0] * len(data_list[0]) \n",
    "\n",
    "    for i in range(len(data_list[0])):\n",
    "        y_val = output[i]\n",
    "\n",
    "        ## combine tracks\n",
    "        dics = []\n",
    "        for data in data_list:\n",
    "            dics.append(data[i])\n",
    "        tracks=[]\n",
    "        for dic in dics:\n",
    "            tracks += list(dic.keys())\n",
    "        track_record[i] = tracks\n",
    "        \n",
    "        ## assign scores\n",
    "        predict[i] = []\n",
    "        for track in tracks:\n",
    "            scores = []\n",
    "            for dic in dics:\n",
    "                if track in dic.keys(): scores.append(dic[track])\n",
    "                else: scores.append(0)\n",
    "            predict[i].append(scores)\n",
    "            \n",
    "            try: y_val[track]\n",
    "            except KeyError: y = 0\n",
    "            else: y = 1\n",
    "            \n",
    "            if y == 1:\n",
    "                train_x.append(scores)\n",
    "                train_y.append(y)\n",
    "            else:\n",
    "                p = random.random()\n",
    "                if p < 0.005:\n",
    "                    train_x.append(scores)\n",
    "                    train_y.append(y)\n",
    "    model = LogisticRegressionCV(cv = 5)\n",
    "    model.fit(train_x, train_y)\n",
    "    print(model.coef_)\n",
    "\n",
    "    rec = []\n",
    "    for i in range(len(data_list[0])):\n",
    "        print('rec: ', i)\n",
    "        score = {}\n",
    "        for j in range(len(predict[i])):\n",
    "            score[track_record[i][j]] = model.predict_proba([list(predict[i][j])])[0,1]\n",
    "        s = sorted(score.items(), key=lambda item:item[1])\n",
    "        final_s = list(np.array(s[-1:-501:-1])[:,0])\n",
    "        rec.append(final_s)\n",
    "    with open('hybridize.json', 'w') as f:\n",
    "        json.dump(rec, f)\n",
    "    return rec"
   ]
  },
  {
   "cell_type": "markdown",
   "metadata": {},
   "source": [
    "After some trials, we find that Logistic Regression does not perform very well. Among the coefficients generated for each of the scores associated with the models, only the coefficient for the best performing model is positive, and all other are negative. However, ideally, when we combine the models, we do not want to have negative coefficient for any of the models. "
   ]
  },
  {
   "cell_type": "markdown",
   "metadata": {},
   "source": [
    "### 2. Hybrid Model with Assigned Weight"
   ]
  },
  {
   "cell_type": "markdown",
   "metadata": {},
   "source": [
    "In the second approach, we try to manually assign weights to the models, compute the weighted average of the scores for each of the songs, and recommended the 500 songs with the highest scores. We use the top 500 popular songs as a foundation and combine it with other collaborative filtering and content-based models.\n",
    "\n",
    "We have also thought of altering the weights among different models based on the length of the input. However, after investigation, we did not find significant indication that a certain model performs better when the input length is longer. Thus, we keep the same weight in our hybrid model regardless of the size of the input playlist."
   ]
  },
  {
   "cell_type": "code",
   "execution_count": null,
   "metadata": {},
   "outputs": [],
   "source": [
    "import numpy as np\n",
    "import json\n",
    "\n",
    "with open('validation/val_Y.json', 'r') as f:\n",
    "    val_Y = json.load(f)\n",
    "\n",
    "output = []\n",
    "for lst in val_Y:\n",
    "    dic = {}\n",
    "    for i in lst:\n",
    "        dic[i] = 1\n",
    "    output.append(dic)\n",
    "\n",
    "\n",
    "def combine(files, w):\n",
    "    train_x = []\n",
    "    train_y = []\n",
    "    data_list = []\n",
    "    for file in files:\n",
    "        with open(file, 'r') as f:\n",
    "            data_list.append(json.load(f))\n",
    "\n",
    "\n",
    "    POP = []\n",
    "    for i in range(len(data_list[-1])):\n",
    "        dic = {}\n",
    "        for j in range(len(data_list[-1][i])):\n",
    "            dic[data_list[-1][i][j]] = (500 - j) * w\n",
    "        POP.append(dic)\n",
    "    data_list[-1] = POP\n",
    "\n",
    "    scores = [0] * len(data_list[0])\n",
    "\n",
    "    for i in range(len(data_list[0])):\n",
    "        ## combine tracks\n",
    "        dics = []\n",
    "        for data in data_list:\n",
    "            dics.append(data[i])\n",
    "        tracks=[]\n",
    "        for dic in dics:\n",
    "            tracks += list(dic.keys())\n",
    "\n",
    "        y_val = output[i]\n",
    "\n",
    "        scores[i] = {}\n",
    "        for track in tracks:\n",
    "            scores[i][track] = 0\n",
    "            for j in range(len(dics)):\n",
    "                if track in dics[j].keys():\n",
    "                    scores[i][track] = scores[i][track] + dics[j][track]\n",
    "                else:\n",
    "                    scores[i][track] = scores[i][track] + 0\n",
    "            try:\n",
    "                y_val[track]\n",
    "            except KeyError:\n",
    "                y = 0\n",
    "            else: \n",
    "                y = 1\n",
    "\n",
    "    rec = []\n",
    "    for i in range(len(data_list[0])):\n",
    "        print('rec', i)\n",
    "        score = scores[i]\n",
    "        s = sorted(score.items(), key=lambda item:item[1])\n",
    "        final_s = list(np.array(s[-1:-501:-1])[:,0])\n",
    "        rec.append(final_s)\t\n",
    "    with open('combine_2_07_weight.json.json','w') as f:\n",
    "        json.dump(rec, f)\n",
    "    return rec"
   ]
  }
 ],
 "metadata": {
  "kernelspec": {
   "display_name": "Python 3",
   "language": "python",
   "name": "python3"
  },
  "language_info": {
   "codemirror_mode": {
    "name": "ipython",
    "version": 3
   },
   "file_extension": ".py",
   "mimetype": "text/x-python",
   "name": "python",
   "nbconvert_exporter": "python",
   "pygments_lexer": "ipython3",
   "version": "3.6.6"
  }
 },
 "nbformat": 4,
 "nbformat_minor": 2
}
