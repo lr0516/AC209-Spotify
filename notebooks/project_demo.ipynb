{
 "cells": [
  {
   "cell_type": "markdown",
   "metadata": {},
   "source": [
    "# Project Demo"
   ]
  },
  {
   "cell_type": "code",
   "execution_count": 1,
   "metadata": {},
   "outputs": [],
   "source": [
    "import numpy as np\n",
    "from project_repo.AutoDiff import AutoDiff\n",
    "from time import clock"
   ]
  },
  {
   "cell_type": "code",
   "execution_count": 2,
   "metadata": {},
   "outputs": [],
   "source": [
    "## Case 1.1 Multivariate with fAD\n",
    "t0 = clock()\n",
    "x1,x2,x3,x4 = AutoDiff.create_f(\n",
    "    [np.pi/2,1,3,1])\n",
    "f = AutoDiff.sin(x1) + x2*x3 + x4**4\n",
    "t = clock() - t0\n",
    "print('Function Value: ', f.get_val())\n",
    "print('Function Jacobian: ')\n",
    "print(f.get_jac())\n",
    "print('---------------------------------')\n",
    "print('Time Used: ', t)"
   ]
  },
  {
   "cell_type": "code",
   "execution_count": 3,
   "metadata": {},
   "outputs": [
    {
     "name": "stdout",
     "output_type": "stream",
     "text": [
      "Function Value:  5.0\n",
      "df/dx1:  6.123233995736766e-17\n",
      "df/dx2:  3.0\n",
      "df/dx3:  1.0\n",
      "df/dx4:  4.0\n",
      "---------------------------------\n",
      "Time Used:  0.0013090000000000046\n"
     ]
    }
   ],
   "source": [
    "## Case 1.2 Multivariate with rAD\n",
    "t0 = clock()\n",
    "x1,x2,x3,x4 = AutoDiff.create_r(\n",
    "    [np.pi/2,1,3,1])\n",
    "f = AutoDiff.sin(x1) + x2*x3 + x4**4\n",
    "f.outer()\n",
    "t = clock() - t0\n",
    "print('Function Value: ', f.get_val())\n",
    "print('df/dx1: ', x1.get_grad())\n",
    "print('df/dx2: ', x2.get_grad())\n",
    "print('df/dx3: ', x3.get_grad())\n",
    "print('df/dx4: ', x4.get_grad())\n",
    "print('---------------------------------')\n",
    "print('Time Used: ', t)"
   ]
  },
  {
   "cell_type": "code",
   "execution_count": 4,
   "metadata": {},
   "outputs": [
    {
     "name": "stdout",
     "output_type": "stream",
     "text": [
      "Function Value:  [ 5. 24.]\n",
      "Function Jacobian: \n",
      "[[6.123234e-17 3.000000e+00 1.000000e+00 4.000000e+00]\n",
      " [1.000000e+00 4.000000e+00 2.000000e+00 3.200000e+01]]\n",
      "---------------------------------\n",
      "Time Used:  0.002279000000000031\n"
     ]
    }
   ],
   "source": [
    "## Case 2.1 2-D Variables with fAD\n",
    "t0 = clock()\n",
    "x1,x2,x3,x4 = AutoDiff.create_f(\n",
    "    [[np.pi/2,0],[1,2],[3,4],[1,2]])\n",
    "f = AutoDiff.sin(x1) + x2*x3 + x4**4\n",
    "t = clock() - t0\n",
    "print('Function Value: ', f.get_val())\n",
    "print('Function Jacobian: ')\n",
    "print(f.get_jac())\n",
    "print('---------------------------------')\n",
    "print('Time Used: ', t)"
   ]
  },
  {
   "cell_type": "code",
   "execution_count": 5,
   "metadata": {},
   "outputs": [
    {
     "name": "stdout",
     "output_type": "stream",
     "text": [
      "Function Value:  [ 5. 24.]\n",
      "df/dx1:  [6.123234e-17 1.000000e+00]\n",
      "df/dx2:  [3. 4.]\n",
      "df/dx3:  [1. 2.]\n",
      "df/dx4:  [ 4. 32.]\n",
      "---------------------------------\n",
      "Time Used:  0.0006639999999999979\n"
     ]
    }
   ],
   "source": [
    "## Case 2.2 2-D Variables with rAD\n",
    "t0 = clock()\n",
    "x1,x2,x3,x4 = AutoDiff.create_r(\n",
    "    [[np.pi/2,0],[1,2],[3,4],[1,2]])\n",
    "f = AutoDiff.sin(x1) + x2*x3 + x4**4\n",
    "f.outer()\n",
    "t = clock() - t0\n",
    "print('Function Value: ', f.get_val())\n",
    "print('df/dx1: ', x1.get_grad())\n",
    "print('df/dx2: ', x2.get_grad())\n",
    "print('df/dx3: ', x3.get_grad())\n",
    "print('df/dx4: ', x4.get_grad())\n",
    "print('---------------------------------')\n",
    "print('Time Used: ', t)"
   ]
  },
  {
   "cell_type": "code",
   "execution_count": 6,
   "metadata": {},
   "outputs": [
    {
     "name": "stdout",
     "output_type": "stream",
     "text": [
      "Function Value:  [16.78539816  1.41421356]\n",
      "Function Jacobian: \n",
      "[[ 0.78539816  1.         32.        ]\n",
      " [-1.         -1.41421356  0.70710678]]\n",
      "---------------------------------\n",
      "Time Used:  0.0030169999999999364\n"
     ]
    }
   ],
   "source": [
    "## Case 3.1 2-D Functions with fAD\n",
    "t0 = clock()\n",
    "x1,x2,x3 = AutoDiff.create_f([1,np.pi/4,2])\n",
    "f1 = x1*x2 + x3**4\n",
    "f2 = -AutoDiff.log(x1) + AutoDiff.cos(x2) * x3\n",
    "f = AutoDiff.stack_f([f1,f2])\n",
    "t = clock() - t0\n",
    "print('Function Value: ', f.get_val())\n",
    "print('Function Jacobian: ')\n",
    "print(f.get_jac())\n",
    "print('---------------------------------')\n",
    "print('Time Used: ', t)"
   ]
  },
  {
   "cell_type": "code",
   "execution_count": 7,
   "metadata": {
    "scrolled": true
   },
   "outputs": [
    {
     "name": "stdout",
     "output_type": "stream",
     "text": [
      "Function Value:  [16.78539816  1.41421356]\n",
      "Function Jacobian: \n",
      "[[ 0.78539816  1.         32.        ]\n",
      " [-1.         -1.41421356  0.70710678]]\n",
      "---------------------------------\n",
      "Time Used:  0.001807000000000003\n"
     ]
    }
   ],
   "source": [
    "## Case 3.2 2-D Functions with rAD\n",
    "t0 = clock()\n",
    "def f1(x1,x2,x3): \n",
    "    return x1*x2 + x3**4\n",
    "def f2(x1,x2,x3): \n",
    "    return -AutoDiff.log(x1) + AutoDiff.cos(x2) * x3\n",
    "f_val, f_jac = AutoDiff.stack_r([1,np.pi/4,2],[f1,f2])\n",
    "t = clock() - t0\n",
    "print('Function Value: ', f_val)\n",
    "print('Function Jacobian: ')\n",
    "print(f_jac)\n",
    "print('---------------------------------')\n",
    "print('Time Used: ', t)"
   ]
  },
  {
   "cell_type": "markdown",
   "metadata": {},
   "source": [
    "#### Rosenbrock: $$f(x,y) = 100(y-x^2)^2+(1-x)^2 $$"
   ]
  },
  {
   "cell_type": "code",
   "execution_count": 8,
   "metadata": {},
   "outputs": [],
   "source": [
    "from scipy.optimize import line_search\n",
    "from numpy.linalg import norm"
   ]
  },
  {
   "cell_type": "code",
   "execution_count": 9,
   "metadata": {},
   "outputs": [
    {
     "name": "stdout",
     "output_type": "stream",
     "text": [
      "Optimized solution:  [0.9999995671204049, 0.9999991324744798]\n",
      "Number of Steps Used:  1571\n",
      "---------------------------------\n",
      "Time Used:  1.274506\n"
     ]
    }
   ],
   "source": [
    "## Case 4.1 Steepest Descent with fAD\n",
    "t0 = clock()\n",
    "\n",
    "def R(X): \n",
    "    return 100*(X[1]-X[0]**2)**2 + (1-X[0])**2\n",
    "\n",
    "def G(X):     \n",
    "    x,y = AutoDiff.create_f([X[0],X[1]])\n",
    "    f = R([x,y])\n",
    "    return f.get_jac()\n",
    "\n",
    "x,y,dX,step_count = 0,1,[1,1],0\n",
    "while norm(dX) >= 1e-8 and step_count < 2000:\n",
    "    step_count += 1\n",
    "    s = -G([x,y])\n",
    "    eta = line_search(R, G, [x,y], s)[0]\n",
    "    dX = eta*s\n",
    "    x,y = [x,y]+dX\n",
    "    \n",
    "t = clock() - t0\n",
    "print('Optimized solution: ',[x,y])\n",
    "print('Number of Steps Used: ',step_count)\n",
    "print('---------------------------------')\n",
    "print('Time Used: ', t)"
   ]
  },
  {
   "cell_type": "code",
   "execution_count": 10,
   "metadata": {},
   "outputs": [
    {
     "name": "stdout",
     "output_type": "stream",
     "text": [
      "Optimized solution:  [0.9999995671190041, 0.9999991324716722]\n",
      "Number of Steps Used:  1571\n",
      "---------------------------------\n",
      "Time Used:  1.05094\n"
     ]
    }
   ],
   "source": [
    "## Case 4.2 Steepest Descent with rAD\n",
    "t0 = clock()\n",
    "\n",
    "def R(X): \n",
    "    return 100*(X[1]-X[0]**2)**2 + (1-X[0])**2\n",
    "\n",
    "def G(X):\n",
    "    x,y = AutoDiff.create_r(X)\n",
    "    f = R([x,y])\n",
    "    f.outer()\n",
    "    return np.array([x.get_grad(), y.get_grad()])\n",
    "\n",
    "x,y,dX,step_count = 0,1,[1,1],0\n",
    "while norm(dX) >= 1e-8 and step_count < 2000:\n",
    "    step_count += 1\n",
    "    s = -G([x,y])\n",
    "    eta = line_search(R, G, [x,y], s)[0]\n",
    "    dX = eta*s\n",
    "    x,y = [x,y]+dX\n",
    "\n",
    "t = clock() - t0\n",
    "print('Optimized solution: ',[x,y])\n",
    "print('Number of Steps Used: ',step_count)\n",
    "print('---------------------------------')\n",
    "print('Time Used: ', t)"
   ]
  },
  {
   "cell_type": "code",
   "execution_count": null,
   "metadata": {},
   "outputs": [],
   "source": []
  }
 ],
 "metadata": {
  "kernelspec": {
   "display_name": "Python 3",
   "language": "python",
   "name": "python3"
  },
  "language_info": {
   "codemirror_mode": {
    "name": "ipython",
    "version": 3
   },
   "file_extension": ".py",
   "mimetype": "text/x-python",
   "name": "python",
   "nbconvert_exporter": "python",
   "pygments_lexer": "ipython3",
   "version": "3.6.6"
  }
 },
 "nbformat": 4,
 "nbformat_minor": 2
}
